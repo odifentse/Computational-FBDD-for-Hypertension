{
 "cells": [
  {
   "cell_type": "markdown",
   "id": "2a8b5ecb",
   "metadata": {},
   "source": [
    "# PHASE 5: ML CLUSTERING"
   ]
  },
  {
   "cell_type": "markdown",
   "id": "fe5014c7",
   "metadata": {},
   "source": [
    "\"\"\"\n",
    "\n",
    "PHASE 5: Unsupervised machine learning k-means clustering model to predict drug classes of new drugs. \n",
    "\n",
    "Created on Friday May 12 2023 (v1)\n",
    "\n",
    "Updated on Monday May 22 2023 (v2)\n",
    "\n",
    "Updated on Friday May 26 2023 (v3)\n",
    "\n",
    "Updated on Tuesday July 11 2023 (v4) - only clustering new drugs\n",
    "\n",
    "Updated on Thursday July 13 2023 (v5) - create scatter plot\n",
    "\n",
    "Updated on Thursday July 17 2023 (v6) - new drugs as per new C09 list\n",
    "\n",
    "\n",
    "@author: Odifentse M Lehasa\n",
    "\n",
    "The purpose of this notebook is to take the newly discovered molecules and create clusters of the new drugs.\n",
    "\n",
    "This is an important step (together with phase 6) in determining which of the new molecules are in the ACEI or ARBs drug classes. \n",
    "\n",
    "We will do this using the unsupervised machine learning model of K-Means, which will create label predicitions using clustering.\n",
    "\n",
    "\"\"\""
   ]
  },
  {
   "cell_type": "markdown",
   "id": "93ba66cb",
   "metadata": {},
   "source": [
    "## STEP 0: Import Libraries"
   ]
  },
  {
   "cell_type": "code",
   "execution_count": 8,
   "id": "3090f805",
   "metadata": {},
   "outputs": [],
   "source": [
    "import pandas as pd\n",
    "from sklearn.cluster import KMeans\n",
    "import matplotlib.pyplot as plt\n",
    "import sklearn \n",
    "import yellowbrick\n",
    "from yellowbrick.cluster import SilhouetteVisualizer"
   ]
  },
  {
   "cell_type": "markdown",
   "id": "2fdaa33d",
   "metadata": {},
   "source": [
    "## STEP 1: Import Data"
   ]
  },
  {
   "cell_type": "code",
   "execution_count": 4,
   "id": "29f08bca",
   "metadata": {},
   "outputs": [
    {
     "data": {
      "text/html": [
       "<div>\n",
       "<style scoped>\n",
       "    .dataframe tbody tr th:only-of-type {\n",
       "        vertical-align: middle;\n",
       "    }\n",
       "\n",
       "    .dataframe tbody tr th {\n",
       "        vertical-align: top;\n",
       "    }\n",
       "\n",
       "    .dataframe thead th {\n",
       "        text-align: right;\n",
       "    }\n",
       "</style>\n",
       "<table border=\"1\" class=\"dataframe\">\n",
       "  <thead>\n",
       "    <tr style=\"text-align: right;\">\n",
       "      <th></th>\n",
       "      <th>Canonical SMILES</th>\n",
       "      <th>Carboxyl Functional Group (No.)</th>\n",
       "      <th>Sulfhydrl Functional Group (No.)</th>\n",
       "      <th>Phosphinyl Functional Group (No.)</th>\n",
       "      <th>Biphenyl Functional Group (No.)</th>\n",
       "      <th>Benzimidazole Functional Group (No.)</th>\n",
       "      <th>Tetrazol Functional Group (No.)</th>\n",
       "      <th>Functional Count</th>\n",
       "    </tr>\n",
       "  </thead>\n",
       "  <tbody>\n",
       "    <tr>\n",
       "      <th>4</th>\n",
       "      <td>NCCCC[C@@H](C(=O)N1[C@H](CO)C[C@H]2CCCC[C@@H]2...</td>\n",
       "      <td>0</td>\n",
       "      <td>0</td>\n",
       "      <td>0</td>\n",
       "      <td>0</td>\n",
       "      <td>0</td>\n",
       "      <td>1</td>\n",
       "      <td>1</td>\n",
       "    </tr>\n",
       "    <tr>\n",
       "      <th>6</th>\n",
       "      <td>NCCCC[C@@H](C(=O)N1[C@H](CO)C[C@H]2CCCC[C@@H]2...</td>\n",
       "      <td>0</td>\n",
       "      <td>0</td>\n",
       "      <td>0</td>\n",
       "      <td>0</td>\n",
       "      <td>0</td>\n",
       "      <td>1</td>\n",
       "      <td>1</td>\n",
       "    </tr>\n",
       "    <tr>\n",
       "      <th>9</th>\n",
       "      <td>NCCCC[C@@H](C(=O)N1[C@H](CO)C[C@H]2CCCC[C@@H]2...</td>\n",
       "      <td>1</td>\n",
       "      <td>0</td>\n",
       "      <td>0</td>\n",
       "      <td>0</td>\n",
       "      <td>0</td>\n",
       "      <td>0</td>\n",
       "      <td>1</td>\n",
       "    </tr>\n",
       "    <tr>\n",
       "      <th>18</th>\n",
       "      <td>NCCCC[C@@H](C(=O)N1[C@H](CO)C[C@H]2CCCC[C@@H]2...</td>\n",
       "      <td>0</td>\n",
       "      <td>0</td>\n",
       "      <td>0</td>\n",
       "      <td>0</td>\n",
       "      <td>0</td>\n",
       "      <td>1</td>\n",
       "      <td>1</td>\n",
       "    </tr>\n",
       "    <tr>\n",
       "      <th>20</th>\n",
       "      <td>NCCCC[C@@H](C(=O)N1[C@H](CO)C[C@H]2CCCC[C@@H]2...</td>\n",
       "      <td>0</td>\n",
       "      <td>0</td>\n",
       "      <td>0</td>\n",
       "      <td>0</td>\n",
       "      <td>0</td>\n",
       "      <td>1</td>\n",
       "      <td>1</td>\n",
       "    </tr>\n",
       "    <tr>\n",
       "      <th>...</th>\n",
       "      <td>...</td>\n",
       "      <td>...</td>\n",
       "      <td>...</td>\n",
       "      <td>...</td>\n",
       "      <td>...</td>\n",
       "      <td>...</td>\n",
       "      <td>...</td>\n",
       "      <td>...</td>\n",
       "    </tr>\n",
       "    <tr>\n",
       "      <th>5376</th>\n",
       "      <td>NCCCC[C@@H](C(=O)N1[C@H](C2CCCCC2)C[C@@H]2CCC[...</td>\n",
       "      <td>1</td>\n",
       "      <td>0</td>\n",
       "      <td>0</td>\n",
       "      <td>0</td>\n",
       "      <td>0</td>\n",
       "      <td>0</td>\n",
       "      <td>1</td>\n",
       "    </tr>\n",
       "    <tr>\n",
       "      <th>5387</th>\n",
       "      <td>C[C@H](CS)C(=O)N[C@@H](CCCCN)C(=O)N1[C@H](c2no...</td>\n",
       "      <td>0</td>\n",
       "      <td>1</td>\n",
       "      <td>0</td>\n",
       "      <td>0</td>\n",
       "      <td>0</td>\n",
       "      <td>0</td>\n",
       "      <td>1</td>\n",
       "    </tr>\n",
       "    <tr>\n",
       "      <th>5396</th>\n",
       "      <td>CCCCC(=O)O[C@@H](CCCCN)C(=O)N1[C@H](c2noc(=O)[...</td>\n",
       "      <td>1</td>\n",
       "      <td>0</td>\n",
       "      <td>0</td>\n",
       "      <td>0</td>\n",
       "      <td>0</td>\n",
       "      <td>0</td>\n",
       "      <td>1</td>\n",
       "    </tr>\n",
       "    <tr>\n",
       "      <th>5397</th>\n",
       "      <td>CCC(=O)O[C@@H](CCCCN)C(=O)N1[C@H](c2noc(=O)[nH...</td>\n",
       "      <td>1</td>\n",
       "      <td>0</td>\n",
       "      <td>0</td>\n",
       "      <td>0</td>\n",
       "      <td>0</td>\n",
       "      <td>0</td>\n",
       "      <td>1</td>\n",
       "    </tr>\n",
       "    <tr>\n",
       "      <th>5398</th>\n",
       "      <td>C[C@H](CS)C(=O)O[C@@H](CCCCN)C(=O)N1[C@H](c2no...</td>\n",
       "      <td>1</td>\n",
       "      <td>1</td>\n",
       "      <td>0</td>\n",
       "      <td>0</td>\n",
       "      <td>0</td>\n",
       "      <td>0</td>\n",
       "      <td>2</td>\n",
       "    </tr>\n",
       "  </tbody>\n",
       "</table>\n",
       "<p>3900 rows × 8 columns</p>\n",
       "</div>"
      ],
      "text/plain": [
       "                                       Canonical SMILES  \\\n",
       "4     NCCCC[C@@H](C(=O)N1[C@H](CO)C[C@H]2CCCC[C@@H]2...   \n",
       "6     NCCCC[C@@H](C(=O)N1[C@H](CO)C[C@H]2CCCC[C@@H]2...   \n",
       "9     NCCCC[C@@H](C(=O)N1[C@H](CO)C[C@H]2CCCC[C@@H]2...   \n",
       "18    NCCCC[C@@H](C(=O)N1[C@H](CO)C[C@H]2CCCC[C@@H]2...   \n",
       "20    NCCCC[C@@H](C(=O)N1[C@H](CO)C[C@H]2CCCC[C@@H]2...   \n",
       "...                                                 ...   \n",
       "5376  NCCCC[C@@H](C(=O)N1[C@H](C2CCCCC2)C[C@@H]2CCC[...   \n",
       "5387  C[C@H](CS)C(=O)N[C@@H](CCCCN)C(=O)N1[C@H](c2no...   \n",
       "5396  CCCCC(=O)O[C@@H](CCCCN)C(=O)N1[C@H](c2noc(=O)[...   \n",
       "5397  CCC(=O)O[C@@H](CCCCN)C(=O)N1[C@H](c2noc(=O)[nH...   \n",
       "5398  C[C@H](CS)C(=O)O[C@@H](CCCCN)C(=O)N1[C@H](c2no...   \n",
       "\n",
       "      Carboxyl Functional Group (No.)  Sulfhydrl Functional Group (No.)  \\\n",
       "4                                   0                                 0   \n",
       "6                                   0                                 0   \n",
       "9                                   1                                 0   \n",
       "18                                  0                                 0   \n",
       "20                                  0                                 0   \n",
       "...                               ...                               ...   \n",
       "5376                                1                                 0   \n",
       "5387                                0                                 1   \n",
       "5396                                1                                 0   \n",
       "5397                                1                                 0   \n",
       "5398                                1                                 1   \n",
       "\n",
       "      Phosphinyl Functional Group (No.)  Biphenyl Functional Group (No.)  \\\n",
       "4                                     0                                0   \n",
       "6                                     0                                0   \n",
       "9                                     0                                0   \n",
       "18                                    0                                0   \n",
       "20                                    0                                0   \n",
       "...                                 ...                              ...   \n",
       "5376                                  0                                0   \n",
       "5387                                  0                                0   \n",
       "5396                                  0                                0   \n",
       "5397                                  0                                0   \n",
       "5398                                  0                                0   \n",
       "\n",
       "      Benzimidazole Functional Group (No.)  Tetrazol Functional Group (No.)  \\\n",
       "4                                        0                                1   \n",
       "6                                        0                                1   \n",
       "9                                        0                                0   \n",
       "18                                       0                                1   \n",
       "20                                       0                                1   \n",
       "...                                    ...                              ...   \n",
       "5376                                     0                                0   \n",
       "5387                                     0                                0   \n",
       "5396                                     0                                0   \n",
       "5397                                     0                                0   \n",
       "5398                                     0                                0   \n",
       "\n",
       "      Functional Count  \n",
       "4                    1  \n",
       "6                    1  \n",
       "9                    1  \n",
       "18                   1  \n",
       "20                   1  \n",
       "...                ...  \n",
       "5376                 1  \n",
       "5387                 1  \n",
       "5396                 1  \n",
       "5397                 1  \n",
       "5398                 2  \n",
       "\n",
       "[3900 rows x 8 columns]"
      ]
     },
     "execution_count": 4,
     "metadata": {},
     "output_type": "execute_result"
    }
   ],
   "source": [
    "# Use dataframe of new drugs generated in phase 4 (those that passed the molecular prop. and functional group criteria).\n",
    "\n",
    "df_combo = pd.read_csv('/Users/odilehasa/Hypertension/Final_Experiments/FINAL - October/Output/4.1. New molecules - with functional groups.csv', index_col=0)\n",
    "df_combo"
   ]
  },
  {
   "cell_type": "markdown",
   "id": "5f0b7a4b",
   "metadata": {},
   "source": [
    "## STEP 2: K-Means to predict the classes of new molecules "
   ]
  },
  {
   "cell_type": "markdown",
   "id": "28aa3cfe",
   "metadata": {},
   "source": [
    "### Determine the sample data (X)/ Features"
   ]
  },
  {
   "cell_type": "code",
   "execution_count": 5,
   "id": "07150bf0",
   "metadata": {},
   "outputs": [],
   "source": [
    "# include only the ACE and ARB functional groups as features.\n",
    "\n",
    "X_combo = df_combo.iloc[:,1:7] "
   ]
  },
  {
   "cell_type": "code",
   "execution_count": 6,
   "id": "36d9e7f8",
   "metadata": {
    "scrolled": true
   },
   "outputs": [
    {
     "data": {
      "text/html": [
       "<div>\n",
       "<style scoped>\n",
       "    .dataframe tbody tr th:only-of-type {\n",
       "        vertical-align: middle;\n",
       "    }\n",
       "\n",
       "    .dataframe tbody tr th {\n",
       "        vertical-align: top;\n",
       "    }\n",
       "\n",
       "    .dataframe thead th {\n",
       "        text-align: right;\n",
       "    }\n",
       "</style>\n",
       "<table border=\"1\" class=\"dataframe\">\n",
       "  <thead>\n",
       "    <tr style=\"text-align: right;\">\n",
       "      <th></th>\n",
       "      <th>Carboxyl Functional Group (No.)</th>\n",
       "      <th>Sulfhydrl Functional Group (No.)</th>\n",
       "      <th>Phosphinyl Functional Group (No.)</th>\n",
       "      <th>Biphenyl Functional Group (No.)</th>\n",
       "      <th>Benzimidazole Functional Group (No.)</th>\n",
       "      <th>Tetrazol Functional Group (No.)</th>\n",
       "    </tr>\n",
       "  </thead>\n",
       "  <tbody>\n",
       "    <tr>\n",
       "      <th>4</th>\n",
       "      <td>0</td>\n",
       "      <td>0</td>\n",
       "      <td>0</td>\n",
       "      <td>0</td>\n",
       "      <td>0</td>\n",
       "      <td>1</td>\n",
       "    </tr>\n",
       "    <tr>\n",
       "      <th>6</th>\n",
       "      <td>0</td>\n",
       "      <td>0</td>\n",
       "      <td>0</td>\n",
       "      <td>0</td>\n",
       "      <td>0</td>\n",
       "      <td>1</td>\n",
       "    </tr>\n",
       "    <tr>\n",
       "      <th>9</th>\n",
       "      <td>1</td>\n",
       "      <td>0</td>\n",
       "      <td>0</td>\n",
       "      <td>0</td>\n",
       "      <td>0</td>\n",
       "      <td>0</td>\n",
       "    </tr>\n",
       "    <tr>\n",
       "      <th>18</th>\n",
       "      <td>0</td>\n",
       "      <td>0</td>\n",
       "      <td>0</td>\n",
       "      <td>0</td>\n",
       "      <td>0</td>\n",
       "      <td>1</td>\n",
       "    </tr>\n",
       "    <tr>\n",
       "      <th>20</th>\n",
       "      <td>0</td>\n",
       "      <td>0</td>\n",
       "      <td>0</td>\n",
       "      <td>0</td>\n",
       "      <td>0</td>\n",
       "      <td>1</td>\n",
       "    </tr>\n",
       "    <tr>\n",
       "      <th>...</th>\n",
       "      <td>...</td>\n",
       "      <td>...</td>\n",
       "      <td>...</td>\n",
       "      <td>...</td>\n",
       "      <td>...</td>\n",
       "      <td>...</td>\n",
       "    </tr>\n",
       "    <tr>\n",
       "      <th>5376</th>\n",
       "      <td>1</td>\n",
       "      <td>0</td>\n",
       "      <td>0</td>\n",
       "      <td>0</td>\n",
       "      <td>0</td>\n",
       "      <td>0</td>\n",
       "    </tr>\n",
       "    <tr>\n",
       "      <th>5387</th>\n",
       "      <td>0</td>\n",
       "      <td>1</td>\n",
       "      <td>0</td>\n",
       "      <td>0</td>\n",
       "      <td>0</td>\n",
       "      <td>0</td>\n",
       "    </tr>\n",
       "    <tr>\n",
       "      <th>5396</th>\n",
       "      <td>1</td>\n",
       "      <td>0</td>\n",
       "      <td>0</td>\n",
       "      <td>0</td>\n",
       "      <td>0</td>\n",
       "      <td>0</td>\n",
       "    </tr>\n",
       "    <tr>\n",
       "      <th>5397</th>\n",
       "      <td>1</td>\n",
       "      <td>0</td>\n",
       "      <td>0</td>\n",
       "      <td>0</td>\n",
       "      <td>0</td>\n",
       "      <td>0</td>\n",
       "    </tr>\n",
       "    <tr>\n",
       "      <th>5398</th>\n",
       "      <td>1</td>\n",
       "      <td>1</td>\n",
       "      <td>0</td>\n",
       "      <td>0</td>\n",
       "      <td>0</td>\n",
       "      <td>0</td>\n",
       "    </tr>\n",
       "  </tbody>\n",
       "</table>\n",
       "<p>3900 rows × 6 columns</p>\n",
       "</div>"
      ],
      "text/plain": [
       "      Carboxyl Functional Group (No.)  Sulfhydrl Functional Group (No.)  \\\n",
       "4                                   0                                 0   \n",
       "6                                   0                                 0   \n",
       "9                                   1                                 0   \n",
       "18                                  0                                 0   \n",
       "20                                  0                                 0   \n",
       "...                               ...                               ...   \n",
       "5376                                1                                 0   \n",
       "5387                                0                                 1   \n",
       "5396                                1                                 0   \n",
       "5397                                1                                 0   \n",
       "5398                                1                                 1   \n",
       "\n",
       "      Phosphinyl Functional Group (No.)  Biphenyl Functional Group (No.)  \\\n",
       "4                                     0                                0   \n",
       "6                                     0                                0   \n",
       "9                                     0                                0   \n",
       "18                                    0                                0   \n",
       "20                                    0                                0   \n",
       "...                                 ...                              ...   \n",
       "5376                                  0                                0   \n",
       "5387                                  0                                0   \n",
       "5396                                  0                                0   \n",
       "5397                                  0                                0   \n",
       "5398                                  0                                0   \n",
       "\n",
       "      Benzimidazole Functional Group (No.)  Tetrazol Functional Group (No.)  \n",
       "4                                        0                                1  \n",
       "6                                        0                                1  \n",
       "9                                        0                                0  \n",
       "18                                       0                                1  \n",
       "20                                       0                                1  \n",
       "...                                    ...                              ...  \n",
       "5376                                     0                                0  \n",
       "5387                                     0                                0  \n",
       "5396                                     0                                0  \n",
       "5397                                     0                                0  \n",
       "5398                                     0                                0  \n",
       "\n",
       "[3900 rows x 6 columns]"
      ]
     },
     "execution_count": 6,
     "metadata": {},
     "output_type": "execute_result"
    }
   ],
   "source": [
    "X_combo"
   ]
  },
  {
   "cell_type": "markdown",
   "id": "b4b287e1",
   "metadata": {},
   "source": [
    "## STEP 3: Determine appropriate K value"
   ]
  },
  {
   "cell_type": "markdown",
   "id": "e454ea19",
   "metadata": {},
   "source": [
    "### 1. Elbow Method"
   ]
  },
  {
   "cell_type": "code",
   "execution_count": 7,
   "id": "7366940f",
   "metadata": {},
   "outputs": [
    {
     "data": {
      "image/png": "[encoded data removed]",
      "text/plain": [
       "<Figure size 1440x720 with 1 Axes>"
      ]
     },
     "metadata": {
      "needs_background": "light"
     },
     "output_type": "display_data"
    }
   ],
   "source": [
    "# Set the figure size and font size\n",
    "fig = plt.subplots(figsize=(20, 10))\n",
    "\n",
    "# Create the WCSS Plot against the no. of clusters\n",
    "\n",
    "wcss = []\n",
    "\n",
    "for i in range(1, 11):\n",
    "    kmeans = KMeans(n_clusters=i, init='k-means++', max_iter=300, n_init=10, random_state=0)\n",
    "    kmeans.fit(X_combo)\n",
    "    wcss.append(kmeans.inertia_)\n",
    "        \n",
    "plt.plot(range(1, 11), wcss)\n",
    "plt.title('Elbow Method for optimal number of clusters (k value)',fontsize=30)\n",
    "plt.xlabel('Number of Clusters', fontsize=25)\n",
    "plt.xticks(fontsize=20)\n",
    "plt.ylabel('WCSS', fontsize=25)\n",
    "plt.yticks(fontsize=20)\n",
    "\n",
    "# save figure\n",
    "plt.savefig('5.1 K-Means Elbow Method Plot.png')\n",
    "\n",
    "plt.show()"
   ]
  },
  {
   "cell_type": "markdown",
   "id": "eb10fe0e",
   "metadata": {},
   "source": [
    "### 2. Silhouette Method"
   ]
  },
  {
   "cell_type": "code",
   "execution_count": 9,
   "id": "87c0b1d2",
   "metadata": {},
   "outputs": [
    {
     "data": {
      "image/png": "[encoded data removed]",
      "text/plain": [
       "<Figure size 1440x720 with 4 Axes>"
      ]
     },
     "metadata": {},
     "output_type": "display_data"
    }
   ],
   "source": [
    " \n",
    "# set figure size and font size\n",
    "fig, ax = plt.subplots(2, 2, figsize=(20,10)) # smaller subplots\n",
    "\n",
    "# Create the Silhouette Plot against the no. of clusters\n",
    "for i in [2, 3, 4, 5]:\n",
    "    \n",
    "    km = KMeans(n_clusters=i, init='k-means++', n_init=10, max_iter=300, random_state=42)\n",
    "    q, mod = divmod(i, 2)\n",
    "    \n",
    "    # Create SilhouetteVisualizer instance with KMeans instance\n",
    "    # Fit the visualizer\n",
    "    \n",
    "    visualizer = SilhouetteVisualizer(km, colors='yellowbrick', ax=ax[q-1][mod])\n",
    "    visualizer.fit(X_combo)\n",
    "\n",
    "# set plot title\n",
    "plt.suptitle('Silhouette Method for optimal number of clusters (k value)',fontsize=30)\n",
    "\n",
    "# set the title to all the subplots\n",
    "ax[0, 0].set_title(\"k = 2\", fontsize= 25)\n",
    "ax[0, 1].set_title(\"k = 3\", fontsize= 25)\n",
    "ax[1, 0].set_title(\"k = 4\", fontsize= 25)\n",
    "ax[1, 1].set_title(\"k = 5\", fontsize= 25)\n",
    "\n",
    "# set x label\n",
    "ax[1, 0].set_xlabel('Silhouette coefficient',fontsize= 18)\n",
    "ax[1, 1].set_xlabel('Silhouette coefficient',fontsize= 18)\n",
    "\n",
    "# set y label\n",
    "ax[0, 0].set_ylabel('Cluster',fontsize= 18)\n",
    "ax[1, 0].set_ylabel('Cluster',fontsize= 18)\n",
    "\n",
    "# Determine the size of x and y tick labels\n",
    "plt.xticks(fontsize= 10)\n",
    "plt.yticks(fontsize= 10)\n",
    "\n",
    "\n",
    "plt.savefig('5.2 K-Means Silhouette Method Plot.png')\n"
   ]
  },
  {
   "cell_type": "markdown",
   "id": "4d6c9396",
   "metadata": {},
   "source": [
    "## STEP 4: Create K Means Cluster Model with 3 Clusters"
   ]
  },
  {
   "cell_type": "code",
   "execution_count": 10,
   "id": "e1fdcf92",
   "metadata": {},
   "outputs": [],
   "source": [
    "kmeans = KMeans(n_clusters=3)"
   ]
  },
  {
   "cell_type": "markdown",
   "id": "4b1bf102",
   "metadata": {},
   "source": [
    "### Fit the model to all the data (X)"
   ]
  },
  {
   "cell_type": "code",
   "execution_count": 11,
   "id": "fe9532ee",
   "metadata": {},
   "outputs": [
    {
     "data": {
      "text/plain": [
       "KMeans(n_clusters=3)"
      ]
     },
     "execution_count": 11,
     "metadata": {},
     "output_type": "execute_result"
    }
   ],
   "source": [
    "kmeans.fit(X_combo)\n"
   ]
  },
  {
   "cell_type": "markdown",
   "id": "6d49d03d",
   "metadata": {},
   "source": [
    "### View the cluster center vectors"
   ]
  },
  {
   "cell_type": "code",
   "execution_count": 12,
   "id": "85a24b4e",
   "metadata": {},
   "outputs": [
    {
     "data": {
      "text/plain": [
       "array([[ 4.41767068e-01,  1.00401606e-02,  0.00000000e+00,\n",
       "        -3.03576608e-18,  0.00000000e+00,  1.00000000e+00],\n",
       "       [ 9.86915888e-01,  4.43925234e-02,  0.00000000e+00,\n",
       "         6.54205607e-03,  0.00000000e+00, -3.33066907e-16],\n",
       "       [ 2.05366492e+00,  1.85863874e-01,  0.00000000e+00,\n",
       "         1.73472348e-18,  0.00000000e+00,  8.11518325e-02]])"
      ]
     },
     "execution_count": 12,
     "metadata": {},
     "output_type": "execute_result"
    }
   ],
   "source": [
    "clusters =kmeans.cluster_centers_\n",
    "clusters"
   ]
  },
  {
   "cell_type": "markdown",
   "id": "fce614c3",
   "metadata": {},
   "source": [
    "### Predict the closest cluster for each sample in X belongs to."
   ]
  },
  {
   "cell_type": "code",
   "execution_count": 14,
   "id": "6040ec04",
   "metadata": {},
   "outputs": [
    {
     "data": {
      "text/plain": [
       "array([0, 0, 1, ..., 1, 1, 1], dtype=int32)"
      ]
     },
     "execution_count": 14,
     "metadata": {},
     "output_type": "execute_result"
    }
   ],
   "source": [
    "kmeans.predict(X_combo)\n"
   ]
  },
  {
   "cell_type": "code",
   "execution_count": 15,
   "id": "a377f1a8",
   "metadata": {},
   "outputs": [
    {
     "data": {
      "text/plain": [
       "3900"
      ]
     },
     "execution_count": 15,
     "metadata": {},
     "output_type": "execute_result"
    }
   ],
   "source": [
    "len(kmeans.predict(X_combo))"
   ]
  },
  {
   "cell_type": "code",
   "execution_count": 16,
   "id": "cef06a2d",
   "metadata": {},
   "outputs": [
    {
     "data": {
      "text/plain": [
       "array([0, 0, 1, ..., 1, 1, 1], dtype=int32)"
      ]
     },
     "execution_count": 16,
     "metadata": {},
     "output_type": "execute_result"
    }
   ],
   "source": [
    "kmeans.labels_"
   ]
  },
  {
   "cell_type": "code",
   "execution_count": 17,
   "id": "db234c36",
   "metadata": {},
   "outputs": [],
   "source": [
    "label = kmeans.labels_"
   ]
  },
  {
   "cell_type": "code",
   "execution_count": 18,
   "id": "c1922cbf",
   "metadata": {},
   "outputs": [
    {
     "name": "stdout",
     "output_type": "stream",
     "text": [
      "[0 0 1 ... 1 1 1]\n"
     ]
    }
   ],
   "source": [
    "print(label)"
   ]
  },
  {
   "cell_type": "markdown",
   "id": "d6b217a6",
   "metadata": {},
   "source": [
    "## STEP 5: Merge the labels with the sample dataframe"
   ]
  },
  {
   "cell_type": "code",
   "execution_count": 19,
   "id": "44e5bd1c",
   "metadata": {},
   "outputs": [
    {
     "data": {
      "text/html": [
       "<div>\n",
       "<style scoped>\n",
       "    .dataframe tbody tr th:only-of-type {\n",
       "        vertical-align: middle;\n",
       "    }\n",
       "\n",
       "    .dataframe tbody tr th {\n",
       "        vertical-align: top;\n",
       "    }\n",
       "\n",
       "    .dataframe thead th {\n",
       "        text-align: right;\n",
       "    }\n",
       "</style>\n",
       "<table border=\"1\" class=\"dataframe\">\n",
       "  <thead>\n",
       "    <tr style=\"text-align: right;\">\n",
       "      <th></th>\n",
       "      <th>Canonical SMILES</th>\n",
       "      <th>Carboxyl Functional Group (No.)</th>\n",
       "      <th>Sulfhydrl Functional Group (No.)</th>\n",
       "      <th>Phosphinyl Functional Group (No.)</th>\n",
       "      <th>Biphenyl Functional Group (No.)</th>\n",
       "      <th>Benzimidazole Functional Group (No.)</th>\n",
       "      <th>Tetrazol Functional Group (No.)</th>\n",
       "      <th>Functional Count</th>\n",
       "      <th>Clusters</th>\n",
       "    </tr>\n",
       "  </thead>\n",
       "  <tbody>\n",
       "    <tr>\n",
       "      <th>4</th>\n",
       "      <td>NCCCC[C@@H](C(=O)N1[C@H](CO)C[C@H]2CCCC[C@@H]2...</td>\n",
       "      <td>0</td>\n",
       "      <td>0</td>\n",
       "      <td>0</td>\n",
       "      <td>0</td>\n",
       "      <td>0</td>\n",
       "      <td>1</td>\n",
       "      <td>1</td>\n",
       "      <td>0</td>\n",
       "    </tr>\n",
       "    <tr>\n",
       "      <th>6</th>\n",
       "      <td>NCCCC[C@@H](C(=O)N1[C@H](CO)C[C@H]2CCCC[C@@H]2...</td>\n",
       "      <td>0</td>\n",
       "      <td>0</td>\n",
       "      <td>0</td>\n",
       "      <td>0</td>\n",
       "      <td>0</td>\n",
       "      <td>1</td>\n",
       "      <td>1</td>\n",
       "      <td>0</td>\n",
       "    </tr>\n",
       "    <tr>\n",
       "      <th>9</th>\n",
       "      <td>NCCCC[C@@H](C(=O)N1[C@H](CO)C[C@H]2CCCC[C@@H]2...</td>\n",
       "      <td>1</td>\n",
       "      <td>0</td>\n",
       "      <td>0</td>\n",
       "      <td>0</td>\n",
       "      <td>0</td>\n",
       "      <td>0</td>\n",
       "      <td>1</td>\n",
       "      <td>1</td>\n",
       "    </tr>\n",
       "    <tr>\n",
       "      <th>18</th>\n",
       "      <td>NCCCC[C@@H](C(=O)N1[C@H](CO)C[C@H]2CCCC[C@@H]2...</td>\n",
       "      <td>0</td>\n",
       "      <td>0</td>\n",
       "      <td>0</td>\n",
       "      <td>0</td>\n",
       "      <td>0</td>\n",
       "      <td>1</td>\n",
       "      <td>1</td>\n",
       "      <td>0</td>\n",
       "    </tr>\n",
       "    <tr>\n",
       "      <th>20</th>\n",
       "      <td>NCCCC[C@@H](C(=O)N1[C@H](CO)C[C@H]2CCCC[C@@H]2...</td>\n",
       "      <td>0</td>\n",
       "      <td>0</td>\n",
       "      <td>0</td>\n",
       "      <td>0</td>\n",
       "      <td>0</td>\n",
       "      <td>1</td>\n",
       "      <td>1</td>\n",
       "      <td>0</td>\n",
       "    </tr>\n",
       "    <tr>\n",
       "      <th>...</th>\n",
       "      <td>...</td>\n",
       "      <td>...</td>\n",
       "      <td>...</td>\n",
       "      <td>...</td>\n",
       "      <td>...</td>\n",
       "      <td>...</td>\n",
       "      <td>...</td>\n",
       "      <td>...</td>\n",
       "      <td>...</td>\n",
       "    </tr>\n",
       "    <tr>\n",
       "      <th>5376</th>\n",
       "      <td>NCCCC[C@@H](C(=O)N1[C@H](C2CCCCC2)C[C@@H]2CCC[...</td>\n",
       "      <td>1</td>\n",
       "      <td>0</td>\n",
       "      <td>0</td>\n",
       "      <td>0</td>\n",
       "      <td>0</td>\n",
       "      <td>0</td>\n",
       "      <td>1</td>\n",
       "      <td>1</td>\n",
       "    </tr>\n",
       "    <tr>\n",
       "      <th>5387</th>\n",
       "      <td>C[C@H](CS)C(=O)N[C@@H](CCCCN)C(=O)N1[C@H](c2no...</td>\n",
       "      <td>0</td>\n",
       "      <td>1</td>\n",
       "      <td>0</td>\n",
       "      <td>0</td>\n",
       "      <td>0</td>\n",
       "      <td>0</td>\n",
       "      <td>1</td>\n",
       "      <td>1</td>\n",
       "    </tr>\n",
       "    <tr>\n",
       "      <th>5396</th>\n",
       "      <td>CCCCC(=O)O[C@@H](CCCCN)C(=O)N1[C@H](c2noc(=O)[...</td>\n",
       "      <td>1</td>\n",
       "      <td>0</td>\n",
       "      <td>0</td>\n",
       "      <td>0</td>\n",
       "      <td>0</td>\n",
       "      <td>0</td>\n",
       "      <td>1</td>\n",
       "      <td>1</td>\n",
       "    </tr>\n",
       "    <tr>\n",
       "      <th>5397</th>\n",
       "      <td>CCC(=O)O[C@@H](CCCCN)C(=O)N1[C@H](c2noc(=O)[nH...</td>\n",
       "      <td>1</td>\n",
       "      <td>0</td>\n",
       "      <td>0</td>\n",
       "      <td>0</td>\n",
       "      <td>0</td>\n",
       "      <td>0</td>\n",
       "      <td>1</td>\n",
       "      <td>1</td>\n",
       "    </tr>\n",
       "    <tr>\n",
       "      <th>5398</th>\n",
       "      <td>C[C@H](CS)C(=O)O[C@@H](CCCCN)C(=O)N1[C@H](c2no...</td>\n",
       "      <td>1</td>\n",
       "      <td>1</td>\n",
       "      <td>0</td>\n",
       "      <td>0</td>\n",
       "      <td>0</td>\n",
       "      <td>0</td>\n",
       "      <td>2</td>\n",
       "      <td>1</td>\n",
       "    </tr>\n",
       "  </tbody>\n",
       "</table>\n",
       "<p>3900 rows × 9 columns</p>\n",
       "</div>"
      ],
      "text/plain": [
       "                                       Canonical SMILES  \\\n",
       "4     NCCCC[C@@H](C(=O)N1[C@H](CO)C[C@H]2CCCC[C@@H]2...   \n",
       "6     NCCCC[C@@H](C(=O)N1[C@H](CO)C[C@H]2CCCC[C@@H]2...   \n",
       "9     NCCCC[C@@H](C(=O)N1[C@H](CO)C[C@H]2CCCC[C@@H]2...   \n",
       "18    NCCCC[C@@H](C(=O)N1[C@H](CO)C[C@H]2CCCC[C@@H]2...   \n",
       "20    NCCCC[C@@H](C(=O)N1[C@H](CO)C[C@H]2CCCC[C@@H]2...   \n",
       "...                                                 ...   \n",
       "5376  NCCCC[C@@H](C(=O)N1[C@H](C2CCCCC2)C[C@@H]2CCC[...   \n",
       "5387  C[C@H](CS)C(=O)N[C@@H](CCCCN)C(=O)N1[C@H](c2no...   \n",
       "5396  CCCCC(=O)O[C@@H](CCCCN)C(=O)N1[C@H](c2noc(=O)[...   \n",
       "5397  CCC(=O)O[C@@H](CCCCN)C(=O)N1[C@H](c2noc(=O)[nH...   \n",
       "5398  C[C@H](CS)C(=O)O[C@@H](CCCCN)C(=O)N1[C@H](c2no...   \n",
       "\n",
       "      Carboxyl Functional Group (No.)  Sulfhydrl Functional Group (No.)  \\\n",
       "4                                   0                                 0   \n",
       "6                                   0                                 0   \n",
       "9                                   1                                 0   \n",
       "18                                  0                                 0   \n",
       "20                                  0                                 0   \n",
       "...                               ...                               ...   \n",
       "5376                                1                                 0   \n",
       "5387                                0                                 1   \n",
       "5396                                1                                 0   \n",
       "5397                                1                                 0   \n",
       "5398                                1                                 1   \n",
       "\n",
       "      Phosphinyl Functional Group (No.)  Biphenyl Functional Group (No.)  \\\n",
       "4                                     0                                0   \n",
       "6                                     0                                0   \n",
       "9                                     0                                0   \n",
       "18                                    0                                0   \n",
       "20                                    0                                0   \n",
       "...                                 ...                              ...   \n",
       "5376                                  0                                0   \n",
       "5387                                  0                                0   \n",
       "5396                                  0                                0   \n",
       "5397                                  0                                0   \n",
       "5398                                  0                                0   \n",
       "\n",
       "      Benzimidazole Functional Group (No.)  Tetrazol Functional Group (No.)  \\\n",
       "4                                        0                                1   \n",
       "6                                        0                                1   \n",
       "9                                        0                                0   \n",
       "18                                       0                                1   \n",
       "20                                       0                                1   \n",
       "...                                    ...                              ...   \n",
       "5376                                     0                                0   \n",
       "5387                                     0                                0   \n",
       "5396                                     0                                0   \n",
       "5397                                     0                                0   \n",
       "5398                                     0                                0   \n",
       "\n",
       "      Functional Count  Clusters  \n",
       "4                    1         0  \n",
       "6                    1         0  \n",
       "9                    1         1  \n",
       "18                   1         0  \n",
       "20                   1         0  \n",
       "...                ...       ...  \n",
       "5376                 1         1  \n",
       "5387                 1         1  \n",
       "5396                 1         1  \n",
       "5397                 1         1  \n",
       "5398                 2         1  \n",
       "\n",
       "[3900 rows x 9 columns]"
      ]
     },
     "execution_count": 19,
     "metadata": {},
     "output_type": "execute_result"
    }
   ],
   "source": [
    "# Add an extra column \"Clusters\" to the dataframe with the values of \"label\"\n",
    "\n",
    "df_combo['Clusters']= label\n",
    "df_combo"
   ]
  },
  {
   "cell_type": "markdown",
   "id": "91b37858",
   "metadata": {},
   "source": [
    "### Save the dataframe as a CSV file"
   ]
  },
  {
   "cell_type": "code",
   "execution_count": 21,
   "id": "9194b8eb",
   "metadata": {},
   "outputs": [],
   "source": [
    "\n",
    "df_combo.to_csv(\"5. Drug Clusters.csv\")"
   ]
  },
  {
   "cell_type": "markdown",
   "id": "b187abe8",
   "metadata": {},
   "source": [
    "# ---END HERE---"
   ]
  }
 ],
 "metadata": {
  "kernelspec": {
   "display_name": "Python 3 (ipykernel)",
   "language": "python",
   "name": "python3"
  },
  "language_info": {
   "codemirror_mode": {
    "name": "ipython",
    "version": 3
   },
   "file_extension": ".py",
   "mimetype": "text/x-python",
   "name": "python",
   "nbconvert_exporter": "python",
   "pygments_lexer": "ipython3",
   "version": "3.9.12"
  }
 },
 "nbformat": 4,
 "nbformat_minor": 5
}
